{
 "cells": [
  {
   "cell_type": "markdown",
   "id": "9253de8c-d632-4d9f-b547-7417a4da4158",
   "metadata": {},
   "source": [
    "## https://github.com/google-ai-edge/mediapipe/blob/master/docs/solutions/pose.md"
   ]
  },
  {
   "cell_type": "code",
   "execution_count": 4,
   "id": "08158156-c452-4b37-a0c2-d25c0b1e4282",
   "metadata": {},
   "outputs": [],
   "source": [
    "import cv2\n",
    "import mediapipe as mp\n",
    "import csv\n",
    "\n",
    "mp_drawing = mp.solutions.drawing_utils\n",
    "mp_drawing_styles = mp.solutions.drawing_styles\n",
    "mp_pose = mp.solutions.pose\n",
    "\n",
    "# For webcam input:\n",
    "cap = cv2.VideoCapture(0)\n",
    "\n",
    "# Open a CSV file to save the joint coordinates\n",
    "with open('pose_landmarks.csv', mode='w', newline='') as file:\n",
    "    csv_writer = csv.writer(file)\n",
    "    # Write the header\n",
    "    csv_writer.writerow(['Frame'] + [f'{joint}_{coord}' for joint in range(33) for coord in ['x', 'y', 'z', 'visibility']])\n",
    "\n",
    "    with mp_pose.Pose(\n",
    "        min_detection_confidence=0.5,\n",
    "        min_tracking_confidence=0.5) as pose:\n",
    "        frame_count = 0\n",
    "        while cap.isOpened():\n",
    "            success, image = cap.read()\n",
    "            if not success:\n",
    "                print(\"Ignoring empty camera frame.\")\n",
    "                # If loading a video, use 'break' instead of 'continue'.\n",
    "                continue\n",
    "\n",
    "            # To improve performance, optionally mark the image as not writeable to\n",
    "            # pass by reference.\n",
    "            image.flags.writeable = False\n",
    "            image = cv2.cvtColor(image, cv2.COLOR_BGR2RGB)\n",
    "            results = pose.process(image)\n",
    "\n",
    "            # Check if pose landmarks are detected\n",
    "            if results.pose_landmarks:\n",
    "                # Extract landmarks\n",
    "                landmarks = results.pose_landmarks.landmark\n",
    "                row = [frame_count] + [coord for lm in landmarks for coord in [lm.x, lm.y, lm.z, lm.visibility]]\n",
    "                csv_writer.writerow(row)\n",
    "\n",
    "            # Draw the pose annotation on the image.\n",
    "            image.flags.writeable = True\n",
    "            image = cv2.cvtColor(image, cv2.COLOR_RGB2BGR)\n",
    "            mp_drawing.draw_landmarks(\n",
    "                image,\n",
    "                results.pose_landmarks,\n",
    "                mp_pose.POSE_CONNECTIONS,\n",
    "                landmark_drawing_spec=mp_drawing_styles.get_default_pose_landmarks_style())\n",
    "            \n",
    "            # Flip the image horizontally for a selfie-view display.\n",
    "            cv2.imshow('MediaPipe Pose', cv2.flip(image, 1))\n",
    "\n",
    "            if cv2.waitKey(5) & 0xFF == 27:  # Exit on pressing 'Esc'\n",
    "                break\n",
    "\n",
    "            frame_count += 1\n",
    "\n",
    "cap.release()\n",
    "cv2.destroyAllWindows()\n"
   ]
  },
  {
   "cell_type": "code",
   "execution_count": null,
   "id": "c91c9cc8-1f92-47c6-9f14-8486e1df1b4e",
   "metadata": {},
   "outputs": [],
   "source": []
  }
 ],
 "metadata": {
  "kernelspec": {
   "display_name": "Python 3 (ipykernel)",
   "language": "python",
   "name": "python3"
  },
  "language_info": {
   "codemirror_mode": {
    "name": "ipython",
    "version": 3
   },
   "file_extension": ".py",
   "mimetype": "text/x-python",
   "name": "python",
   "nbconvert_exporter": "python",
   "pygments_lexer": "ipython3",
   "version": "3.10.12"
  }
 },
 "nbformat": 4,
 "nbformat_minor": 5
}
